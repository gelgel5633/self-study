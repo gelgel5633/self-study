{
  "nbformat": 4,
  "nbformat_minor": 0,
  "metadata": {
    "colab": {
      "provenance": [],
      "collapsed_sections": [],
      "mount_file_id": "1sHXzn6VyrJIppVfZIaG1S7EwtxAQaI92",
      "authorship_tag": "ABX9TyMzbPyT0jboT8f4VlmxTVs8",
      "include_colab_link": true
    },
    "kernelspec": {
      "name": "python3",
      "display_name": "Python 3"
    },
    "language_info": {
      "name": "python"
    },
    "accelerator": "GPU",
    "gpuClass": "standard"
  },
  "cells": [
    {
      "cell_type": "markdown",
      "metadata": {
        "id": "view-in-github",
        "colab_type": "text"
      },
      "source": [
        "<a href=\"https://colab.research.google.com/github/gelgel5633/self-study/blob/main/%ED%95%84%EC%82%AC/(1)Toxic_Comment_Classification_Challenge%ED%95%84%EC%82%AC.ipynb\" target=\"_parent\"><img src=\"https://colab.research.google.com/assets/colab-badge.svg\" alt=\"Open In Colab\"/></a>"
      ]
    },
    {
      "cell_type": "markdown",
      "source": [
        "# 출처\n",
        "- competition : https://www.kaggle.com/competitions/jigsaw-toxic-comment-classification-challenge\n",
        "- 노트북 링크 : https://www.kaggle.com/code/sbongo/for-beginners-tackling-toxic-using-keras/notebook"
      ],
      "metadata": {
        "id": "vQJ8tlzWlLNq"
      }
    },
    {
      "cell_type": "markdown",
      "source": [
        "이 노트북은 keras LSTM을 사용하여 분류를 해결하기 위한 시도입니다. 이미 이 방식을 사용하여 해결하고 있는 많은 노트북이 있지만, 각 단계에서 무슨 일이 일어나고 있는지에 대한 설명이 충분하지 않다고 생각합니다. 바닐라 Tensorflow를 사용해왔으며 최근에 keras의 멋진 세계를 받아들인 사람으로서 연구와 study에서 얻은 직관을 초급자에게 공유하고 싶습니다  \n",
        "함께 가시죠."
      ],
      "metadata": {
        "id": "tyOdiGseluN-"
      }
    },
    {
      "cell_type": "markdown",
      "source": [
        "일반적인 keras library를 import 하겠습니다"
      ],
      "metadata": {
        "id": "Q93z9kCrmcYR"
      }
    },
    {
      "cell_type": "code",
      "execution_count": 1,
      "metadata": {
        "id": "NIdPg3ytlHWV"
      },
      "outputs": [],
      "source": [
        "import sys, os, re, csv, codecs, numpy as np, pandas as pd\n",
        "import matplotlib.pyplot as plt\n",
        "%matplotlib inline\n",
        "\n",
        "from keras.preprocessing.text import Tokenizer\n",
        "from keras.utils import pad_sequences\n",
        "from keras.layers import Dense, Input, LSTM, Embedding, Dropout, Activation\n",
        "from keras.layers import Bidirectional, GlobalMaxPool1D\n",
        "from keras.models import Model\n",
        "from keras import initializers, regularizers, constraints, optimizers, layers"
      ]
    },
    {
      "cell_type": "markdown",
      "source": [
        "train, test 데이터를 불러오겠습니다"
      ],
      "metadata": {
        "id": "jXuZx3E_m9X4"
      }
    },
    {
      "cell_type": "code",
      "source": [
        "train = pd.read_csv(\"/content/drive/MyDrive/transcription_data/Toxic Comment Classification Challenge/train.csv\")\n",
        "test = pd.read_csv(\"/content/drive/MyDrive/transcription_data/Toxic Comment Classification Challenge/test.csv\")"
      ],
      "metadata": {
        "id": "xDJ9E1wwm7Wl"
      },
      "execution_count": 2,
      "outputs": []
    },
    {
      "cell_type": "markdown",
      "source": [
        "훈련셋과 테스트셋을 살짝 엿보겠습니다"
      ],
      "metadata": {
        "id": "B5GYKWf4nqA3"
      }
    },
    {
      "cell_type": "code",
      "source": [
        "train.head()"
      ],
      "metadata": {
        "colab": {
          "base_uri": "https://localhost:8080/",
          "height": 337
        },
        "id": "hQWihgVEnnFN",
        "outputId": "bad0f2cf-ced5-4656-e438-742c364f1749"
      },
      "execution_count": 3,
      "outputs": [
        {
          "output_type": "execute_result",
          "data": {
            "text/plain": [
              "                 id                                       comment_text  toxic  \\\n",
              "0  0000997932d777bf  Explanation\\nWhy the edits made under my usern...      0   \n",
              "1  000103f0d9cfb60f  D'aww! He matches this background colour I'm s...      0   \n",
              "2  000113f07ec002fd  Hey man, I'm really not trying to edit war. It...      0   \n",
              "3  0001b41b1c6bb37e  \"\\nMore\\nI can't make any real suggestions on ...      0   \n",
              "4  0001d958c54c6e35  You, sir, are my hero. Any chance you remember...      0   \n",
              "\n",
              "   severe_toxic  obscene  threat  insult  identity_hate  \n",
              "0             0        0       0       0              0  \n",
              "1             0        0       0       0              0  \n",
              "2             0        0       0       0              0  \n",
              "3             0        0       0       0              0  \n",
              "4             0        0       0       0              0  "
            ],
            "text/html": [
              "\n",
              "  <div id=\"df-6911f825-7a0a-45bd-a7be-ff343b95ea24\">\n",
              "    <div class=\"colab-df-container\">\n",
              "      <div>\n",
              "<style scoped>\n",
              "    .dataframe tbody tr th:only-of-type {\n",
              "        vertical-align: middle;\n",
              "    }\n",
              "\n",
              "    .dataframe tbody tr th {\n",
              "        vertical-align: top;\n",
              "    }\n",
              "\n",
              "    .dataframe thead th {\n",
              "        text-align: right;\n",
              "    }\n",
              "</style>\n",
              "<table border=\"1\" class=\"dataframe\">\n",
              "  <thead>\n",
              "    <tr style=\"text-align: right;\">\n",
              "      <th></th>\n",
              "      <th>id</th>\n",
              "      <th>comment_text</th>\n",
              "      <th>toxic</th>\n",
              "      <th>severe_toxic</th>\n",
              "      <th>obscene</th>\n",
              "      <th>threat</th>\n",
              "      <th>insult</th>\n",
              "      <th>identity_hate</th>\n",
              "    </tr>\n",
              "  </thead>\n",
              "  <tbody>\n",
              "    <tr>\n",
              "      <th>0</th>\n",
              "      <td>0000997932d777bf</td>\n",
              "      <td>Explanation\\nWhy the edits made under my usern...</td>\n",
              "      <td>0</td>\n",
              "      <td>0</td>\n",
              "      <td>0</td>\n",
              "      <td>0</td>\n",
              "      <td>0</td>\n",
              "      <td>0</td>\n",
              "    </tr>\n",
              "    <tr>\n",
              "      <th>1</th>\n",
              "      <td>000103f0d9cfb60f</td>\n",
              "      <td>D'aww! He matches this background colour I'm s...</td>\n",
              "      <td>0</td>\n",
              "      <td>0</td>\n",
              "      <td>0</td>\n",
              "      <td>0</td>\n",
              "      <td>0</td>\n",
              "      <td>0</td>\n",
              "    </tr>\n",
              "    <tr>\n",
              "      <th>2</th>\n",
              "      <td>000113f07ec002fd</td>\n",
              "      <td>Hey man, I'm really not trying to edit war. It...</td>\n",
              "      <td>0</td>\n",
              "      <td>0</td>\n",
              "      <td>0</td>\n",
              "      <td>0</td>\n",
              "      <td>0</td>\n",
              "      <td>0</td>\n",
              "    </tr>\n",
              "    <tr>\n",
              "      <th>3</th>\n",
              "      <td>0001b41b1c6bb37e</td>\n",
              "      <td>\"\\nMore\\nI can't make any real suggestions on ...</td>\n",
              "      <td>0</td>\n",
              "      <td>0</td>\n",
              "      <td>0</td>\n",
              "      <td>0</td>\n",
              "      <td>0</td>\n",
              "      <td>0</td>\n",
              "    </tr>\n",
              "    <tr>\n",
              "      <th>4</th>\n",
              "      <td>0001d958c54c6e35</td>\n",
              "      <td>You, sir, are my hero. Any chance you remember...</td>\n",
              "      <td>0</td>\n",
              "      <td>0</td>\n",
              "      <td>0</td>\n",
              "      <td>0</td>\n",
              "      <td>0</td>\n",
              "      <td>0</td>\n",
              "    </tr>\n",
              "  </tbody>\n",
              "</table>\n",
              "</div>\n",
              "      <button class=\"colab-df-convert\" onclick=\"convertToInteractive('df-6911f825-7a0a-45bd-a7be-ff343b95ea24')\"\n",
              "              title=\"Convert this dataframe to an interactive table.\"\n",
              "              style=\"display:none;\">\n",
              "        \n",
              "  <svg xmlns=\"http://www.w3.org/2000/svg\" height=\"24px\"viewBox=\"0 0 24 24\"\n",
              "       width=\"24px\">\n",
              "    <path d=\"M0 0h24v24H0V0z\" fill=\"none\"/>\n",
              "    <path d=\"M18.56 5.44l.94 2.06.94-2.06 2.06-.94-2.06-.94-.94-2.06-.94 2.06-2.06.94zm-11 1L8.5 8.5l.94-2.06 2.06-.94-2.06-.94L8.5 2.5l-.94 2.06-2.06.94zm10 10l.94 2.06.94-2.06 2.06-.94-2.06-.94-.94-2.06-.94 2.06-2.06.94z\"/><path d=\"M17.41 7.96l-1.37-1.37c-.4-.4-.92-.59-1.43-.59-.52 0-1.04.2-1.43.59L10.3 9.45l-7.72 7.72c-.78.78-.78 2.05 0 2.83L4 21.41c.39.39.9.59 1.41.59.51 0 1.02-.2 1.41-.59l7.78-7.78 2.81-2.81c.8-.78.8-2.07 0-2.86zM5.41 20L4 18.59l7.72-7.72 1.47 1.35L5.41 20z\"/>\n",
              "  </svg>\n",
              "      </button>\n",
              "      \n",
              "  <style>\n",
              "    .colab-df-container {\n",
              "      display:flex;\n",
              "      flex-wrap:wrap;\n",
              "      gap: 12px;\n",
              "    }\n",
              "\n",
              "    .colab-df-convert {\n",
              "      background-color: #E8F0FE;\n",
              "      border: none;\n",
              "      border-radius: 50%;\n",
              "      cursor: pointer;\n",
              "      display: none;\n",
              "      fill: #1967D2;\n",
              "      height: 32px;\n",
              "      padding: 0 0 0 0;\n",
              "      width: 32px;\n",
              "    }\n",
              "\n",
              "    .colab-df-convert:hover {\n",
              "      background-color: #E2EBFA;\n",
              "      box-shadow: 0px 1px 2px rgba(60, 64, 67, 0.3), 0px 1px 3px 1px rgba(60, 64, 67, 0.15);\n",
              "      fill: #174EA6;\n",
              "    }\n",
              "\n",
              "    [theme=dark] .colab-df-convert {\n",
              "      background-color: #3B4455;\n",
              "      fill: #D2E3FC;\n",
              "    }\n",
              "\n",
              "    [theme=dark] .colab-df-convert:hover {\n",
              "      background-color: #434B5C;\n",
              "      box-shadow: 0px 1px 3px 1px rgba(0, 0, 0, 0.15);\n",
              "      filter: drop-shadow(0px 1px 2px rgba(0, 0, 0, 0.3));\n",
              "      fill: #FFFFFF;\n",
              "    }\n",
              "  </style>\n",
              "\n",
              "      <script>\n",
              "        const buttonEl =\n",
              "          document.querySelector('#df-6911f825-7a0a-45bd-a7be-ff343b95ea24 button.colab-df-convert');\n",
              "        buttonEl.style.display =\n",
              "          google.colab.kernel.accessAllowed ? 'block' : 'none';\n",
              "\n",
              "        async function convertToInteractive(key) {\n",
              "          const element = document.querySelector('#df-6911f825-7a0a-45bd-a7be-ff343b95ea24');\n",
              "          const dataTable =\n",
              "            await google.colab.kernel.invokeFunction('convertToInteractive',\n",
              "                                                     [key], {});\n",
              "          if (!dataTable) return;\n",
              "\n",
              "          const docLinkHtml = 'Like what you see? Visit the ' +\n",
              "            '<a target=\"_blank\" href=https://colab.research.google.com/notebooks/data_table.ipynb>data table notebook</a>'\n",
              "            + ' to learn more about interactive tables.';\n",
              "          element.innerHTML = '';\n",
              "          dataTable['output_type'] = 'display_data';\n",
              "          await google.colab.output.renderOutput(dataTable, element);\n",
              "          const docLink = document.createElement('div');\n",
              "          docLink.innerHTML = docLinkHtml;\n",
              "          element.appendChild(docLink);\n",
              "        }\n",
              "      </script>\n",
              "    </div>\n",
              "  </div>\n",
              "  "
            ]
          },
          "metadata": {},
          "execution_count": 3
        }
      ]
    },
    {
      "cell_type": "markdown",
      "source": [
        "일반적인 전처리 단계는 null값을 확인하는 것입니다. 다음 단계로 진행하기 전에 null값을 다른 무언가로 채워야합니다. 만약 null값을 그대로 둔다면 모델링 시간이 늦어질 것입니다"
      ],
      "metadata": {
        "id": "aVPWkLe1nw1P"
      }
    },
    {
      "cell_type": "code",
      "source": [
        "train.isnull().any(), test.isnull().any()"
      ],
      "metadata": {
        "colab": {
          "base_uri": "https://localhost:8080/"
        },
        "id": "zMTB2cNRntVr",
        "outputId": "fba434cc-9258-4eb3-a7b5-877b79caf360"
      },
      "execution_count": 4,
      "outputs": [
        {
          "output_type": "execute_result",
          "data": {
            "text/plain": [
              "(id               False\n",
              " comment_text     False\n",
              " toxic            False\n",
              " severe_toxic     False\n",
              " obscene          False\n",
              " threat           False\n",
              " insult           False\n",
              " identity_hate    False\n",
              " dtype: bool, id              False\n",
              " comment_text    False\n",
              " dtype: bool)"
            ]
          },
          "metadata": {},
          "execution_count": 4
        }
      ]
    },
    {
      "cell_type": "markdown",
      "source": [
        "전반적으로 null값을 처리할 필요가 없을 것 같습니다.\n",
        "데이터 셋에 대하여 처리할 수 있는 많은 전처리 및 피쳐 엔지니어링 단계가 있지만, 이번 노트북에서의 초점은 사전 처리작업에 관한 것이 아니므로 여기서 수행하는 작업은 나머지 단계가 제대로 작동하도록 할 수 있는 최소한의 작업입니다."
      ],
      "metadata": {
        "id": "48xsMxGMoQfm"
      }
    },
    {
      "cell_type": "markdown",
      "source": [
        "위에서 봤던 데이터셋에서 알 수 있듯이 종속변수는 훈련 셋 자체에 있으므로 X와 Y로 분리해야합니다"
      ],
      "metadata": {
        "id": "ZKslYk1io2tV"
      }
    },
    {
      "cell_type": "code",
      "source": [
        "list_classes = [\"toxic\", \"severe_toxic\", \"obscene\", \"threat\", \"insult\", \"identity_hate\"]\n",
        "y = train[list_classes].values\n",
        "list_sentences_train = train[\"comment_text\"]\n",
        "list_sentences_test = test[\"comment_text\"]"
      ],
      "metadata": {
        "id": "yFoteYd0oJRF"
      },
      "execution_count": 5,
      "outputs": []
    },
    {
      "cell_type": "markdown",
      "source": [
        "우리가 comment를 신경망의 일부로 LSTM에 공급하는 것이지만, 단어를 있는 그대로 공급할 수는 없습니다.\n",
        "\n",
        "우리가 해야 할 것입니다.\n",
        "1. 토큰화 - 문장을 단어로 분해해야합니다. 예를들어 \"i love cats and love dogs\"라는 문장이 있을 때 [\"i\", \"love\", \"cats\",\"and\",\"dogs\"] 로 나눌 수 있습니다.\n",
        "2. 단어를 딕셔너리에 넣고 인덱스를 지정합니다. 예를들어 {1:\"i\",2:\"love\",3:\"cats\",4:\"and\",5:\"dogs\"}\n",
        "3. 인덱스 표현 - comment의 index를 시퀀스로 나타내고 LSTM에 공급할 수있습니다. 예를들어 [1,2,3,4,2,5]  \n",
        "\n",
        "다행히 keras는 더 쉽게 우리의 삶을 만들어주었습니다. 만약 바닐라 텐서플로우를 사용하는경우 자체 사전 구조를 구현하고 인덱싱을 직접 처리해야 합니다. keras에서는 모든 단계를 4줄의 코드로 수행할 수 있습니다. 문장을 토큰화할 때 사전에서 고유한 단어의 수를 정의해야합니다"
      ],
      "metadata": {
        "id": "nB3kozTwpV1V"
      }
    },
    {
      "cell_type": "code",
      "source": [
        "max_features = 20000\n",
        "tokenizer = Tokenizer(num_words = max_features)\n",
        "tokenizer.fit_on_texts(list(list_sentences_train))\n",
        "list_tokenized_train = tokenizer.texts_to_sequences(list_sentences_train)\n",
        "list_tokenized_test = tokenizer.texts_to_sequences(list_sentences_test)"
      ],
      "metadata": {
        "id": "mC3Y7yLepVM6"
      },
      "execution_count": 6,
      "outputs": []
    },
    {
      "cell_type": "markdown",
      "source": [
        "사전에서 각 단어의 발생과 index를 조회할 수 있습니다>"
      ],
      "metadata": {
        "id": "d7haDEWYvYSz"
      }
    },
    {
      "cell_type": "code",
      "source": [
        "# 긴 출력때문에 comment 하였습니다.\n",
        "# 단어의 발생빈도를 위해\n",
        "# tokenizer.word_counts\n",
        "# 단어의 index를 알기 위해\n",
        "# tokenizer.word_index"
      ],
      "metadata": {
        "id": "J3pCPl_uvWV4"
      },
      "execution_count": 7,
      "outputs": []
    },
    {
      "cell_type": "code",
      "source": [
        "list_tokenized_train[:1]"
      ],
      "metadata": {
        "colab": {
          "base_uri": "https://localhost:8080/"
        },
        "id": "ZsBn1gjWvq4a",
        "outputId": "fce15fee-a68a-4522-a635-cb3b7710859d"
      },
      "execution_count": 8,
      "outputs": [
        {
          "output_type": "execute_result",
          "data": {
            "text/plain": [
              "[[688,\n",
              "  75,\n",
              "  1,\n",
              "  126,\n",
              "  130,\n",
              "  177,\n",
              "  29,\n",
              "  672,\n",
              "  4511,\n",
              "  12052,\n",
              "  1116,\n",
              "  86,\n",
              "  331,\n",
              "  51,\n",
              "  2278,\n",
              "  11448,\n",
              "  50,\n",
              "  6864,\n",
              "  15,\n",
              "  60,\n",
              "  2756,\n",
              "  148,\n",
              "  7,\n",
              "  2937,\n",
              "  34,\n",
              "  117,\n",
              "  1221,\n",
              "  15190,\n",
              "  2825,\n",
              "  4,\n",
              "  45,\n",
              "  59,\n",
              "  244,\n",
              "  1,\n",
              "  365,\n",
              "  31,\n",
              "  1,\n",
              "  38,\n",
              "  27,\n",
              "  143,\n",
              "  73,\n",
              "  3462,\n",
              "  89,\n",
              "  3085,\n",
              "  4583,\n",
              "  2273,\n",
              "  985]]"
            ]
          },
          "metadata": {},
          "execution_count": 8
        }
      ]
    },
    {
      "cell_type": "markdown",
      "source": [
        "한 가지 문제가 있습니다. 일부 comment는 매우 길고 일부 commnet는 한 단어라면 어덯게 될까요? indexing된 문장이 다음과 같이 보이지 않습니까?  \n",
        "\n",
        "comment #1 : [8,9,3,7,3,6,3,6,3,6,2,3,4,9]\n",
        "comment #2 : [1,2]\n",
        "\n",
        "그래서 일정한 길이를 가진 데이터를 공급해야하지 않겠습니까?  \n",
        "\n",
        "이것이 우리가 패딩을 사용하는 이유입니다. 부족한 부분을 0으로 채워서 짧은 문장을 다른 문장만큼 길게 만들 수 있습니다. 그러나 긴 것도 짧은 것과 같은 길이로 다듬어야 합니다. 이 경우 최대 길이를 200으로 설정하겠습니다"
      ],
      "metadata": {
        "id": "2rbCFoktvux2"
      }
    },
    {
      "cell_type": "code",
      "source": [
        "maxlen = 200\n",
        "X_t = pad_sequences(list_tokenized_train, maxlen = maxlen)\n",
        "X_te = pad_sequences(list_tokenized_test, maxlen=maxlen)"
      ],
      "metadata": {
        "id": "M_tGh4Xqvs2u"
      },
      "execution_count": 9,
      "outputs": []
    },
    {
      "cell_type": "markdown",
      "source": [
        "설정하기 좋은 maxlen이 무엇인지 어떻게 알 수 있을까요? 너무 짧게 입력하면 유용한 특성을 잃어버릴 것이고 정확도가 떨어질 것입니다. 너무 길게 입력하면 LSTM셀이 더 커져야 합니다  \n",
        "이를 해결할 방법은 하나의문장에서 단어 수의 분포를 보는 것입니다"
      ],
      "metadata": {
        "id": "GgADi0DMwuLM"
      }
    },
    {
      "cell_type": "code",
      "source": [
        "totalNumWords = [len(one_comment) for one_comment in list_tokenized_train]"
      ],
      "metadata": {
        "id": "oke32SUiwlu8"
      },
      "execution_count": 10,
      "outputs": []
    },
    {
      "cell_type": "code",
      "source": [
        "plt.hist(totalNumWords, bins = np.arange(0,410,10))\n",
        "#[0,50,100,150,200,250,300,350,400])#,450,500,550,600,650,700,750,800,850,900])\n",
        "# 위에는 이렇게 적혀있으나 실제로는\n",
        "#[0,10,20,30,40,50,60,70,80,90.......... 390,400] 이 되어야함"
      ],
      "metadata": {
        "colab": {
          "base_uri": "https://localhost:8080/",
          "height": 449
        },
        "id": "-VIqK_KzxPDc",
        "outputId": "20d7200b-b0b8-4b5b-af9f-de0b51a49bd3"
      },
      "execution_count": 11,
      "outputs": [
        {
          "output_type": "execute_result",
          "data": {
            "text/plain": [
              "(array([21439., 27127., 22176., 16223., 12859., 10062.,  7586.,  5991.,\n",
              "         4731.,  3914.,  3129.,  2820.,  2306.,  1896.,  1647.,  1455.,\n",
              "         1329.,  1287.,  1013.,   857.,   750.,   799.,   528.,   581.,\n",
              "          486.,   437.,   407.,   373.,   386.,   292.,   284.,   242.,\n",
              "          217.,   169.,   156.,   167.,   158.,   133.,   136.,   116.]),\n",
              " array([  0,  10,  20,  30,  40,  50,  60,  70,  80,  90, 100, 110, 120,\n",
              "        130, 140, 150, 160, 170, 180, 190, 200, 210, 220, 230, 240, 250,\n",
              "        260, 270, 280, 290, 300, 310, 320, 330, 340, 350, 360, 370, 380,\n",
              "        390, 400]),\n",
              " <a list of 40 Patch objects>)"
            ]
          },
          "metadata": {},
          "execution_count": 11
        },
        {
          "output_type": "display_data",
          "data": {
            "text/plain": [
              "<Figure size 432x288 with 1 Axes>"
            ],
            "image/png": "[encoded data removed]"
          },
          "metadata": {
            "needs_background": "light"
          }
        }
      ]
    },
    {
      "cell_type": "markdown",
      "source": [
        "대부분의 문장 길이는 약 30+ 입니다. maxlen을 50으로 설정할 수 있지만 200으로 설정하겠습니다. 그런 다음 다시 실험하고 최선의 수가 무엇인지 확인할 수 있을 것으로 들립니다"
      ],
      "metadata": {
        "id": "eGsK6wCRxs0p"
      }
    },
    {
      "cell_type": "markdown",
      "source": [
        "__마침내 모델을 구축하기 시작합니다__  \n",
        "이것이 우리가 구축하려는 모델의 구조입니다. 시각적으로 생각하고 나중에 디버그하는 데 도움이 되도록 모델의 각 레이어 치수를 나열하는 것은 나중에도 좋은 방법입니다"
      ],
      "metadata": {
        "id": "d7l1jqL1x_fc"
      }
    },
    {
      "cell_type": "markdown",
      "source": [
        "![image.png](data:image/png;base64,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)"
      ],
      "metadata": {
        "id": "OO13EeRwyQhg"
      }
    },
    {
      "cell_type": "markdown",
      "source": [
        "앞서 언급했듯이 네트워크에 대한 입력은 인코딩된 문장의 목록입니다. 차원이 200인 문장 리스트를 인풋레이어에 정의하겠습니다"
      ],
      "metadata": {
        "id": "__2Mlm1CypZ6"
      }
    },
    {
      "cell_type": "markdown",
      "source": [
        "![image.png](data:image/png;base64,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)"
      ],
      "metadata": {
        "id": "8oKvvlh0ypUB"
      }
    },
    {
      "cell_type": "markdown",
      "source": [
        "쉼표 뒤에 빈 공간을 표시하면 keras가 숫자를 자동으로 유추하도록 지시합니다."
      ],
      "metadata": {
        "id": "Is0_TECNzFJ0"
      }
    },
    {
      "cell_type": "code",
      "source": [
        "inp = Input(shape = (maxlen,))"
      ],
      "metadata": {
        "id": "jiJTdavqxpmI"
      },
      "execution_count": 12,
      "outputs": []
    },
    {
      "cell_type": "markdown",
      "source": [
        "다음으로 그것을(input) embedding layer에 전달합니다. 문장에서 주변 단어들의 벡터 거리에 단어를 투영합니다. 원-핫 인코딩을 사용하여 문장의 단어를 표현하는 경우 모델 크기와 큰 차원을 가지게 되는데, 임베딩을 사용하면 이를 줄일 수 있습니다. embedding 레이어의 출력은 벡터공간에 있는 좌표 목록입니다.   \n",
        "예를 들어 (-81.012) \"고양이\", (-80.012) \"개\" 또한 이러한 좌표의 거리를 사용하여 관련성과 문맥을 감지할 수 있습니다.\n",
        "임베딩은 매우 깊은 주제이며 관심이 있는 경우 다음과 같은 포괄적인 가이드를 참조하세요  \n",
        "링크 : https://www.analyticsvidhya.com/blog/2017/06/word-embeddings-count-word2veec/"
      ],
      "metadata": {
        "id": "u3RbPocHzS1g"
      }
    },
    {
      "cell_type": "markdown",
      "source": [
        "벡터 공간의 크기를 정의할 필요가 있습니다. 위에서 언급했듯, 고유 단어의 수(max_features)를 정의해야 합니다. 다시 말하지만, 임베딩 크기는 조정하고 실험할 수 있는 매개변수입니다."
      ],
      "metadata": {
        "id": "JhKXkIFZ0rIX"
      }
    },
    {
      "cell_type": "code",
      "source": [
        "embed_size = 128\n",
        "x = Embedding(max_features, embed_size)(inp)"
      ],
      "metadata": {
        "id": "9t58DgqgzPrz"
      },
      "execution_count": 13,
      "outputs": []
    },
    {
      "cell_type": "markdown",
      "source": [
        "임베딩 레이어는 (None, 200, 128)의 3차원 텐서를 출력합니다. 이는 문장의 배열(None은 크기)이며, 각 단어(200)에 대해 임베딩 벡터 공간에 128개의 좌표 배열이 있습니다."
      ],
      "metadata": {
        "id": "vDEmCBtf1Ci6"
      }
    },
    {
      "cell_type": "markdown",
      "source": [
        "우리는 이 Tensor를 LSTM에 공급합니다. 차원이 60인 출력을 생성하도록 LSTM을 설정하고 unroll된 전체 시퀀스를 반환하기를 원합니다\n",
        "-> unroll을 찾아보니 rnn을 각 타임스텝별로 풀어놓은 것을 rnn unroll 이라고 합니다  \n",
        "\n",
        "\n",
        "  \n",
        "\n",
        "아시다시피 LSTM 혹은 RNN은 이전 네트워크의 출력을 현재 네트워크의 입력으로 재귀적으로 공급하여 작동하며 X번의 재귀 이후 최종 출력을 가져옵니다.   \n",
        "\n",
        "사용 사례에 따라 unroll하기를 원하거나 다음레이어로 전달할 결과로 사용하기를 원할 것입니다. 우리가 사용할 것입니다"
      ],
      "metadata": {
        "id": "dSQc5fay1YhN"
      }
    },
    {
      "cell_type": "markdown",
      "source": [
        "![image.png](data:image/png;base64,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)"
      ],
      "metadata": {
        "id": "L8wVbVOg3Hci"
      }
    },
    {
      "cell_type": "markdown",
      "source": [
        "위의 그림에서 LSTM은 마지막h까지 h0,h1,h2를 전달합니다  \n",
        "LSTM 계층을 정의하는 짧은 코드에서 요구되는 입력 차원을 놓치기 쉽습니다. LSTM의 텐서는[batch_size, timpe_steps, number_of_inputs]입니다. batch_size는 배치의 샘플 수이고, time_steps는 각 입력에 대해 실행되는 재귀 횟수입니다. 또는 위의 그림에서 \"A\"의 갯수로 나타낼 수 있습니다. 마지막으로 number_of_inputs는 위의 LSTM에 전달하는 변수의 갯수(이 경우 각 문장의 단어 갯수) 입니다.  \n",
        "\n",
        "(None, 200, 128)의 3차원 텐서를 LSTM레이어로 출력하는 이전 임베딩 레이어의 출력을 사용할 수 있습니다. 샘플을 살펴보고, LSTM을 200번 재귀적으로 실행하고 매번 좌표를 전달합니다. 그리고 우리는 펼쳐진 버전을 원하기 때문에 (None, 200, 60)의 텐서를 받게 됩니다. 60은 우리가 정의한 출력 차원입니다"
      ],
      "metadata": {
        "id": "UVUq3G9s3QYy"
      }
    },
    {
      "cell_type": "code",
      "source": [
        "x = LSTM(60, return_sequences = True, name = \"lstm_layer\")(x)"
      ],
      "metadata": {
        "id": "BUcz9YXO1SPP"
      },
      "execution_count": 14,
      "outputs": []
    },
    {
      "cell_type": "markdown",
      "source": [
        "출력을 일반 레이어에 전달하기 전에 3D 텐서를 2D 텐서로 재구성해야 합니다. 중요한 데이터를 버리지 않도록 신중하게 재구성하고 결과 데이터가 원본 데이터를 잘 표현(대표)하기를 바랍니다.     \n",
        "\n",
        "따라서 이미지의 데이터 차원을 줄이기 위해 CNN에서 전통적으로 사용되는 Global Max Pooling 레이어를 사용합니다. 간단히말해서, 데이터의 각 부분을 살펴보고 각 부분의 최댓값을 취합니다. 이러한 최댓값의 모음은 우리가 사용할 수 있는 축소된 데이터의 새로운 집합이 될 것입니다  \n",
        "\n",
        "다른 캐글 커널에서 볼 수 있듯이 풀링레이어의 다양한 변형(평균, 최댓값 등)이 차원 축소에 사용되며 다른 결과를 얻을 수도 있습니다. 시도해보세요.  \n",
        "\n",
        "풀링의 세부적인 내용을 알고싶다면 링크를 클릭하세요   \n",
        "링크 : https://wiseodd.github.io/techblog/2016/07/18/convnet-maxpool-layer/"
      ],
      "metadata": {
        "id": "orYCApxo6iaz"
      }
    },
    {
      "cell_type": "code",
      "source": [
        "x = GlobalMaxPool1D()(x)"
      ],
      "metadata": {
        "id": "QzStTaAw6Iuo"
      },
      "execution_count": 15,
      "outputs": []
    },
    {
      "cell_type": "markdown",
      "source": [
        "우리가 2D텐서를 가지고 있는데, dropout 레이어에 전달합니다. dropout 레이어는 무차별적으로 node를 비활성화하는데, 더 나은 일반화를 도출할 수 있습니다.  \n",
        "drop out의 비율은 10%로 하겠습니다"
      ],
      "metadata": {
        "id": "WiovCKQH7n78"
      }
    },
    {
      "cell_type": "code",
      "source": [
        "x = Dropout(0.1)(x)"
      ],
      "metadata": {
        "id": "WfpSV9eS7ezS"
      },
      "execution_count": 16,
      "outputs": []
    },
    {
      "cell_type": "markdown",
      "source": [
        "drop out 레이어 이후에 출력을 dense층에 연결하고 출력은 relu 활성화함수를 통과합니다. 요약하자면  \n",
        "__활성화함수((input x weights) + bias)__  \n",
        "\n",
        "가중치, 편향, 활성화함수가 한 줄에 설정되었습니다. dense레이어를 정의하여 50의 출력 차원을 생성했습니다"
      ],
      "metadata": {
        "id": "YRIoYwGm8Qio"
      }
    },
    {
      "cell_type": "code",
      "source": [
        "x = Dense(50, activation = \"relu\")(x)"
      ],
      "metadata": {
        "id": "ihpYPZtg8HGU"
      },
      "execution_count": 17,
      "outputs": []
    },
    {
      "cell_type": "markdown",
      "source": [
        "다시 drop out 레이어에 통과시켜주겠습니다"
      ],
      "metadata": {
        "id": "u5ZY6nXz8vUj"
      }
    },
    {
      "cell_type": "code",
      "source": [
        "x = Dropout(0.1)(x)"
      ],
      "metadata": {
        "id": "hWR1hHln8t5r"
      },
      "execution_count": 18,
      "outputs": []
    },
    {
      "cell_type": "markdown",
      "source": [
        "최종적으로 우리는 시그모이드 레이어에 출력을 전달합니다. 시그모이드가 사용되는 이유는 6개의 label에 대해 이진분류를 수행하는데 출력을 0과 1 사이에서 압축시킵니다"
      ],
      "metadata": {
        "id": "s_e10R9882pb"
      }
    },
    {
      "cell_type": "code",
      "source": [
        "x  =Dense(6, activation = \"sigmoid\")(x)"
      ],
      "metadata": {
        "id": "pDLISazg8zAr"
      },
      "execution_count": 19,
      "outputs": []
    },
    {
      "cell_type": "markdown",
      "source": [
        "거의 끝났습니다. 입력, 출력을 정의하고 학습 프로세스를 구성하는 것만 남았습니다. 이진분류를 다루기 때문에 adam 옵티마이저를 사용하여 손실 함수를 최적화하도록 모델을 설정하고 손실함수를 이진 크로스 엔트로피로 정의합니다. 학습률은 기본값을 0.001로 설정합니다"
      ],
      "metadata": {
        "id": "gTaGzDcy9Rz5"
      }
    },
    {
      "cell_type": "code",
      "source": [
        "model = Model(inputs = inp, outputs = x)\n",
        "model.compile(loss= \"binary_crossentropy\",\n",
        "              optimizer = \"adam\",\n",
        "              metrics = [\"accuracy\"])"
      ],
      "metadata": {
        "id": "0OkMEpbZ9RGV"
      },
      "execution_count": 20,
      "outputs": []
    },
    {
      "cell_type": "markdown",
      "source": [
        "우리의 모델을 테스트할 시간입니다. 각 배치에 32개의 패딩되고 인덱싱된 list를 제공하고 데이터의 10%를 검증셋으로 분할합니다. 이 검증 세트는 각 배치에 대해 모델이 과적합 되었는지 여부를 평가하는 데 사용됩니다. 이 모델은 2epoch 동안에 실행됩니다. 다음은 실험할 수 있는 몇 가지 조정 가능한 매개변수로, model을 손상시키지 않고 정확도를 높일 수 있는지 확인합니다"
      ],
      "metadata": {
        "id": "qs2ignNh-0SJ"
      }
    },
    {
      "cell_type": "code",
      "source": [
        "batch_size = 32\n",
        "epochs = 2\n",
        "model.fit(X_t, y, batch_size = batch_size, epochs = epochs, validation_split = 0.1)"
      ],
      "metadata": {
        "colab": {
          "base_uri": "https://localhost:8080/"
        },
        "id": "ul9B8JKL-tt_",
        "outputId": "8baca077-560e-4c2b-893e-ab530f9d0d2a"
      },
      "execution_count": 21,
      "outputs": [
        {
          "output_type": "stream",
          "name": "stdout",
          "text": [
            "Epoch 1/2\n",
            "4488/4488 [==============================] - 81s 16ms/step - loss: 0.0686 - accuracy: 0.9488 - val_loss: 0.0493 - val_accuracy: 0.9939\n",
            "Epoch 2/2\n",
            "4488/4488 [==============================] - 56s 12ms/step - loss: 0.0449 - accuracy: 0.9893 - val_loss: 0.0474 - val_accuracy: 0.9932\n"
          ]
        },
        {
          "output_type": "execute_result",
          "data": {
            "text/plain": [
              "<keras.callbacks.History at 0x7f29f22dde90>"
            ]
          },
          "metadata": {},
          "execution_count": 21
        }
      ]
    },
    {
      "cell_type": "markdown",
      "source": [
        "정확도는 기본 시도에 꽤 괜찮은 것 같습니다. 정확도를 상승시키기 위해 할 수 있는 일이 많으므로(아래 TODO를 참조) 직접 실험해보세요"
      ],
      "metadata": {
        "id": "LbC2mJL-_rXc"
      }
    },
    {
      "cell_type": "markdown",
      "source": [
        "__추가적인 팁__  \n",
        "1. 특히 차원과 관련된 오류를 반환할 때 model.summary()를 실행하는 것이 좋습니다. 진단에 매우 유용한 모든 계층 출력을 나열하기 때문입니다."
      ],
      "metadata": {
        "id": "xob7QcRG_0W7"
      }
    },
    {
      "cell_type": "code",
      "source": [
        "model.summary()"
      ],
      "metadata": {
        "id": "xcLEvoJa_pBW"
      },
      "execution_count": 21,
      "outputs": []
    },
    {
      "cell_type": "markdown",
      "source": [
        "2. 더 많은 레이어를 추가하고 더 멋진 변형을 수행하면서 출력이 예상한 대로 수행되는지 확인하는 것이 좋습니다. 다음을 통해 특정 레이어의 출력을 표시할 수 있습니다."
      ],
      "metadata": {
        "id": "9PiGaM0rAEzK"
      }
    },
    {
      "cell_type": "code",
      "source": [
        "from keras import backend as K\n",
        "\n",
        "# sequential 모델\n",
        "get_3rd_layer_output = K.function([model.layers[0].input],\n",
        "                                  [model.layers[2].output])\n",
        "layer_output = get_3rd_layer_output([X_t[:1]])[0]\n",
        "layer_output.shape\n",
        "# 실제 데이터에 대한 레이어 출력"
      ],
      "metadata": {
        "colab": {
          "base_uri": "https://localhost:8080/"
        },
        "id": "cE-zCKUMADv2",
        "outputId": "5e4a6dc4-5fe1-447e-8d90-40f2b58b4f07"
      },
      "execution_count": 22,
      "outputs": [
        {
          "output_type": "execute_result",
          "data": {
            "text/plain": [
              "(1, 200, 60)"
            ]
          },
          "metadata": {},
          "execution_count": 22
        }
      ]
    },
    {
      "cell_type": "markdown",
      "source": [
        "개인적으로 저는(원본 작성자가) 케라스가 시간과 행렬에 대한 올바른 차원을 정의하는 번거로운 작업을 덜어준다는 것을 알았습니다. 절약된 시간은 다양한 모델 변형 실험 등과 같은 유익한 작업에 사용할 수 있습니다. 그러나 많은 변수와 프로세스가 딥러닝 초보자가 내부에서 무슨 일이 일어나고 있는지 깨닫지 못할 수 있는 방식으로 초기화된다는 것을 알았습니다. 복잡한 세부 사항이 많기 때문에 초보자가 이 블랙박스를 열도록 권장합니다. 그러면 딥러닝에 대한 풍부한 지식을 보상으로 받을 수 있습니다.   \n",
        "누군가 이 짧은 가이드를 유용하게 사용할 수 있기를 바랍니다. 그러한 가이드를 더 보고싶다면 이 커널을 추천하여 저를 지원해주세요. 읽어주셔서 감사합니다."
      ],
      "metadata": {
        "id": "7swpUQvzBvdS"
      }
    },
    {
      "cell_type": "markdown",
      "source": [
        "__TODO__  \n",
        "1. 정확도 상승과 노력의 이점을 가지기 위해 사전학습된 모델을 사용하세요\n",
        "2. 하이퍼파라미터를 조절하세요\n",
        "3. 모델 훈련시 조기종료를 도입하세요\n",
        "4. 다른 구조로 실험하세요"
      ],
      "metadata": {
        "id": "9IM3-O9BCb52"
      }
    },
    {
      "cell_type": "code",
      "source": [],
      "metadata": {
        "id": "W0s7GMQoAhjq"
      },
      "execution_count": null,
      "outputs": []
    }
  ]
}