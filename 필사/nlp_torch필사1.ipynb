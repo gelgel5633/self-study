{
 "cells": [
  {
   "cell_type": "markdown",
   "id": "30662554",
   "metadata": {},
   "source": [
    "# pytorch simple bert 필사\n",
    "competition : Toxic Comment Classification Challenge  \n",
    "notebook link : https://www.kaggle.com/code/hawkeoni/pytorch-simple-bert"
   ]
  },
  {
   "cell_type": "code",
   "execution_count": 1,
   "id": "ed75ff46",
   "metadata": {},
   "outputs": [],
   "source": [
    "import os\n",
    "from typing import Tuple, List\n",
    "from functools import partial\n",
    "from zipfile import ZipFile as zz\n",
    "\n",
    "import pandas as pd\n",
    "import numpy as np\n",
    "import torch\n",
    "import torch.nn as nn\n",
    "import torch.optim as optim\n",
    "from torch.utils.data import Dataset, DataLoader, RandomSampler\n",
    "from torch.nn.utils.rnn import pad_sequence\n",
    "from transformers import BertTokenizer, BertModel, AdamW, get_linear_schedule_with_warmup, BertPreTrainedModel\n",
    "from sklearn.model_selection import train_test_split\n",
    "from sklearn.metrics import roc_auc_score\n",
    "from tqdm import tqdm"
   ]
  },
  {
   "cell_type": "code",
   "execution_count": 2,
   "id": "7a25e853",
   "metadata": {},
   "outputs": [],
   "source": [
    "try:\n",
    "    with zz(\"./Desktop/ff/code/data/toxic_comment/train.csv.zip\") as zf:\n",
    "        zf.extractall()\n",
    "except:\n",
    "    print(\"failed\")"
   ]
  },
  {
   "cell_type": "code",
   "execution_count": 3,
   "id": "4ad88c5c",
   "metadata": {},
   "outputs": [],
   "source": [
    "try:\n",
    "    with zz(\"./Desktop/ff/code/data/toxic_comment/test.csv.zip\") as zf:\n",
    "        zf.extractall()\n",
    "except:\n",
    "    print(\"failed\")\n",
    "    \n",
    "\n",
    "try:\n",
    "    with zz(\"./Desktop/ff/code/data/toxic_comment/test_labels.csv.zip\") as zf:\n",
    "        zf.extractall()\n",
    "except:\n",
    "    print(\"failed\")\n",
    "    \n",
    "try:\n",
    "    with zz(\"./Desktop/ff/code/data/toxic_comment/sample_submission.csv.zip\") as zf:\n",
    "        zf.extractall()\n",
    "except:\n",
    "    print(\"failed\")"
   ]
  },
  {
   "cell_type": "code",
   "execution_count": 4,
   "id": "457fa8c3",
   "metadata": {},
   "outputs": [],
   "source": [
    "path = \"./\""
   ]
  },
  {
   "cell_type": "code",
   "execution_count": 5,
   "id": "0b19c885",
   "metadata": {
    "scrolled": false
   },
   "outputs": [
    {
     "data": {
      "text/html": [
       "<div>\n",
       "<style scoped>\n",
       "    .dataframe tbody tr th:only-of-type {\n",
       "        vertical-align: middle;\n",
       "    }\n",
       "\n",
       "    .dataframe tbody tr th {\n",
       "        vertical-align: top;\n",
       "    }\n",
       "\n",
       "    .dataframe thead th {\n",
       "        text-align: right;\n",
       "    }\n",
       "</style>\n",
       "<table border=\"1\" class=\"dataframe\">\n",
       "  <thead>\n",
       "    <tr style=\"text-align: right;\">\n",
       "      <th></th>\n",
       "      <th>id</th>\n",
       "      <th>comment_text</th>\n",
       "      <th>toxic</th>\n",
       "      <th>severe_toxic</th>\n",
       "      <th>obscene</th>\n",
       "      <th>threat</th>\n",
       "      <th>insult</th>\n",
       "      <th>identity_hate</th>\n",
       "    </tr>\n",
       "  </thead>\n",
       "  <tbody>\n",
       "    <tr>\n",
       "      <th>0</th>\n",
       "      <td>0000997932d777bf</td>\n",
       "      <td>Explanation\\nWhy the edits made under my usern...</td>\n",
       "      <td>0</td>\n",
       "      <td>0</td>\n",
       "      <td>0</td>\n",
       "      <td>0</td>\n",
       "      <td>0</td>\n",
       "      <td>0</td>\n",
       "    </tr>\n",
       "    <tr>\n",
       "      <th>1</th>\n",
       "      <td>000103f0d9cfb60f</td>\n",
       "      <td>D'aww! He matches this background colour I'm s...</td>\n",
       "      <td>0</td>\n",
       "      <td>0</td>\n",
       "      <td>0</td>\n",
       "      <td>0</td>\n",
       "      <td>0</td>\n",
       "      <td>0</td>\n",
       "    </tr>\n",
       "    <tr>\n",
       "      <th>2</th>\n",
       "      <td>000113f07ec002fd</td>\n",
       "      <td>Hey man, I'm really not trying to edit war. It...</td>\n",
       "      <td>0</td>\n",
       "      <td>0</td>\n",
       "      <td>0</td>\n",
       "      <td>0</td>\n",
       "      <td>0</td>\n",
       "      <td>0</td>\n",
       "    </tr>\n",
       "    <tr>\n",
       "      <th>3</th>\n",
       "      <td>0001b41b1c6bb37e</td>\n",
       "      <td>\"\\nMore\\nI can't make any real suggestions on ...</td>\n",
       "      <td>0</td>\n",
       "      <td>0</td>\n",
       "      <td>0</td>\n",
       "      <td>0</td>\n",
       "      <td>0</td>\n",
       "      <td>0</td>\n",
       "    </tr>\n",
       "    <tr>\n",
       "      <th>4</th>\n",
       "      <td>0001d958c54c6e35</td>\n",
       "      <td>You, sir, are my hero. Any chance you remember...</td>\n",
       "      <td>0</td>\n",
       "      <td>0</td>\n",
       "      <td>0</td>\n",
       "      <td>0</td>\n",
       "      <td>0</td>\n",
       "      <td>0</td>\n",
       "    </tr>\n",
       "  </tbody>\n",
       "</table>\n",
       "</div>"
      ],
      "text/plain": [
       "                 id                                       comment_text  toxic  \\\n",
       "0  0000997932d777bf  Explanation\\nWhy the edits made under my usern...      0   \n",
       "1  000103f0d9cfb60f  D'aww! He matches this background colour I'm s...      0   \n",
       "2  000113f07ec002fd  Hey man, I'm really not trying to edit war. It...      0   \n",
       "3  0001b41b1c6bb37e  \"\\nMore\\nI can't make any real suggestions on ...      0   \n",
       "4  0001d958c54c6e35  You, sir, are my hero. Any chance you remember...      0   \n",
       "\n",
       "   severe_toxic  obscene  threat  insult  identity_hate  \n",
       "0             0        0       0       0              0  \n",
       "1             0        0       0       0              0  \n",
       "2             0        0       0       0              0  \n",
       "3             0        0       0       0              0  \n",
       "4             0        0       0       0              0  "
      ]
     },
     "metadata": {},
     "output_type": "display_data"
    }
   ],
   "source": [
    "bert_model_name = \"bert-base-cased\"\n",
    "device = torch.device(\"cpu\")\n",
    "if torch.cuda.is_available():\n",
    "    device = torch.device(\"cuda:0\")\n",
    "\n",
    "tokenizer = BertTokenizer.from_pretrained(bert_model_name)\n",
    "assert tokenizer.pad_token_id == 0, \"패딩 값은 0으로 설정되므로 모든곳에서 변경하세요\"\n",
    "\n",
    "train_df = pd.read_csv(os.path.join(path, \"train.csv\"))\n",
    "display(train_df.head())\n",
    "train_df, val_df = train_test_split(train_df, test_size = 0.05)"
   ]
  },
  {
   "cell_type": "markdown",
   "id": "ec124784",
   "metadata": {},
   "source": [
    "train, validation을 위하여 dataset 및 iterator를 생성합니다. 메모리에 데이터 프레임이 있으므로 게으른것은 아니지만 텐서로 변환되지는 않습니다.  \n",
    "원문에서는 lazy라고 적혀있는데, 게으르다는 뜻 보다는 \"요구가 있을 때 언제든\" 이 적당한 말이라고 합니다.  \n",
    "출처 : https://zorba91.tistory.com/280"
   ]
  },
  {
   "cell_type": "code",
   "execution_count": 6,
   "id": "299789ea",
   "metadata": {},
   "outputs": [],
   "source": [
    "class ToxicDataset(Dataset):\n",
    "    def __init__(self, tokenizer:BertTokenizer, dataframe:pd.DataFrame, lazy:bool = False):\n",
    "        self.tokenizer = tokenizer\n",
    "        self.pad_idx = tokenizer.pad_token_id # 0\n",
    "        self.lazy = lazy\n",
    "        \n",
    "        if not self.lazy:\n",
    "            self.X = []\n",
    "            self.Y = []\n",
    "            # iterrows는 행에 대한 순환반복// 인덱스, 값의 형태로 출력됨\n",
    "            for i, (row) in tqdm(dataframe.iterrows()):\n",
    "                x,y = self.row_to_tensor(self.tokenizer, row) \n",
    "                self.X.append(x)\n",
    "                self.Y.append(y)\n",
    "        else:\n",
    "            self.df = dataframe\n",
    "            \n",
    "    @staticmethod\n",
    "    def row_to_tensor(tokenizer:BertTokenizer, row:pd.Series) -> Tuple[torch.LongTensor, torch.LongTensor]:\n",
    "        tokens = tokenizer.encode(row[\"comment_text\"], add_special_tokens = True)\n",
    "        if len(tokens) > 120:\n",
    "            tokens = tokens[:119] + [tokens[-1]]\n",
    "        x = torch.LongTensor(tokens)\n",
    "        y = torch.FloatTensor(row[[\"toxic\", \"severe_toxic\", \"obscene\", \"threat\", \"insult\", \"identity_hate\"]])\n",
    "        return x, y\n",
    "    \n",
    "    def __len__(self):\n",
    "        if self.lazy:\n",
    "            return len(self.df)\n",
    "        else:\n",
    "            return len(self.X)\n",
    "        \n",
    "    def __getitem__(self, index:int) -> Tuple[torch.LongTensor, torch.LongTensor]:\n",
    "        if not self.lazy:\n",
    "            return self.X[index], self.Y[index]\n",
    "        else:\n",
    "            return self.row_to_tensor(self.tokenizer, self.df.iloc[index])\n",
    "        \n",
    "def collate_fn(batch: List[Tuple[torch.LongTensor, torch.LongTensor]], device: torch.device) \\\n",
    "    -> Tuple[torch.LongTensor, torch.LongTensor]:\n",
    "    x,y = list(zip(*batch))\n",
    "    x = pad_sequence(x, batch_first=True, padding_value = 0)\n",
    "    y = torch.stack(y)\n",
    "    return x.to(device), y.to(device)"
   ]
  },
  {
   "cell_type": "code",
   "execution_count": 8,
   "id": "82e15b49",
   "metadata": {
    "scrolled": false
   },
   "outputs": [
    {
     "name": "stderr",
     "output_type": "stream",
     "text": [
      "0it [00:00, ?it/s]Token indices sequence length is longer than the specified maximum sequence length for this model (1279 > 512). Running this sequence through the model will result in indexing errors\n",
      "4it [00:00, 74.48it/s]"
     ]
    },
    {
     "name": "stdout",
     "output_type": "stream",
     "text": [
      "tensor([  101,  1130,  1134,  1692,  1128,  1431,  5782,  1155,  5991,  7582,\n",
      "         1116,  1106,  1992,  2557,  1176, 27730,  1116, 14467,  4964,   117,\n",
      "         6567,  1647,  3576,   117,  3576,   119,   102])\n",
      "tensor([0., 0., 0., 0., 0., 0.])\n",
      "tensor([ 101, 1119, 1110, 1145, 7495, 1126, 6298, 1751, 1106, 1748, 1117, 2357,\n",
      "        2035, 1113, 1330, 4795,  119,  102])\n",
      "tensor([0., 0., 0., 0., 0., 0.])\n",
      "tensor([  101,   107,   134,   134,  3291, 22808,  1306,   147,  1477,   118,\n",
      "         2896,  4490,  8950,   118, 14890, 11273,  2225,   118,   163,  9359,\n",
      "         1377,   134,   134,   138,  1403,  8871,   119,  1987,   119,  5728,\n",
      "          156, 26989, 14021,  1182,  1138,  1103,  1509,  1937,  1164,  3291,\n",
      "        22808,  1306,  7434, 17926,   119,  1124,   117,  1167,  1190,  2256,\n",
      "         1950,   117,  1110,  1103,  1211, 27709,  1825,  1115,  1169, 10086,\n",
      "         4237,  1105,  2276,  1869,  1116,  1164,  3291, 22808,  1306,  7434,\n",
      "        17926,   117,  1136,   147, 13836,  5253,   119,  1124,  1108,  1103,\n",
      "         1141,  1150,  2751,  1103,   140,  2107,  3048,  1107,  1816,   119,\n",
      "         1258,  1275,  1201,   117,  1119,  1338,  1149,  1106, 15810,  1107,\n",
      "         1384,   117,  1115,   107,   107,  1119,  1105,  1117,  1844,  1264,\n",
      "         1138,  2751,  1136,  1141,  1133,  1160,  9735, 12556,  6919,   102])\n",
      "tensor([0., 0., 0., 0., 0., 0.])\n",
      "tensor([  101,  2066,  4267,  1116, 23429,  1142,  1155,   119,   102])\n",
      "tensor([0., 0., 0., 0., 0., 0.])\n",
      "tensor([  101,   107,   107,   107,  2082,  6506,  1741,  2168,   107,   107,\n",
      "         1422,   171,  4867, 24442,  1233,  1896,  1142,  1376,  2727,  1104,\n",
      "          189,  2047,  7137,   119,  2181,  1175,   170,  2190,  1104,  2166,\n",
      "         1741,  3721,  1115,  1156,  5057,  1115,  1142,  1110,  1103,  1692,\n",
      "          136, 20487,   112,   189,  1103,  1741,   170, 24632,  3798,  1107,\n",
      "        16815,  1116,  1137,  3023,   118, 25864,  5189,   113,  2336,   117,\n",
      "         3576,   119,   114,  1129,  2610,   136,  1262,  1274,   112,   189,\n",
      "         1343,  1614,  3333,  1451,  1989,   136,  1262,  1187,  1674,  1142,\n",
      "        21338,  1568,  1295,  1435,  1121,   136,  1109,  8301,   119,  8916,\n",
      "        21510,   136,  2966,  2256,  1321,  1103, 15832,  1786,  1137,   130,\n",
      "          120,  1367,  1137,   150, 25290,  1234,  1120,  1147,  1734,  1111,\n",
      "         1246,  2528, 17430,   136,  1753,  1396,  2047, 18771,  2165,   102])\n",
      "tensor([0., 0., 0., 0., 0., 0.])\n"
     ]
    },
    {
     "name": "stderr",
     "output_type": "stream",
     "text": [
      "\n"
     ]
    }
   ],
   "source": [
    "# torch.LongTensor, torch.FloatTensor를 찍어본 결과\n",
    "# 지정한 각 값이 원 핫 인코딩 형태로 출력\n",
    "# FloatTensor는 32비트 실수, LongTensor는 64비트 정수\n",
    "\n",
    "def row_to_tensor(tokenizer: BertTokenizer, row: pd.Series) -> Tuple[torch.LongTensor, torch.LongTensor]:\n",
    "    tokens = tokenizer.encode(row[\"comment_text\"], add_special_tokens=True)\n",
    "    if len(tokens) > 120:\n",
    "        tokens = tokens[:119] + [tokens[-1]]\n",
    "    x = torch.LongTensor(tokens)\n",
    "    y = torch.FloatTensor(row[[\"toxic\", \"severe_toxic\", \"obscene\", \"threat\", \"insult\", \"identity_hate\"]])\n",
    "    return x, y\n",
    "\n",
    "testt = []\n",
    "for i, (row) in tqdm(train_df.iterrows()):\n",
    "    xx, yy = row_to_tensor(tokenizer, row)\n",
    "    print(xx)\n",
    "    print(yy)\n",
    "    testt.append(xx)\n",
    "    if len(testt) ==5:\n",
    "        break"
   ]
  },
  {
   "cell_type": "code",
   "execution_count": 9,
   "id": "62328efd",
   "metadata": {},
   "outputs": [],
   "source": [
    "train_dataset = ToxicDataset(tokenizer, train_df, lazy = True)\n",
    "dev_dataset = ToxicDataset(tokenizer, val_df, lazy = True)\n",
    "collate_fn = partial(collate_fn, device = device)\n",
    "BATCH_SIZE = 32\n",
    "train_sampler = RandomSampler(train_dataset)\n",
    "dev_sampler = RandomSampler(dev_dataset)\n",
    "train_iterator = DataLoader(train_dataset, batch_size = BATCH_SIZE, sampler = train_sampler, collate_fn = collate_fn)\n",
    "dev_iterator = DataLoader(dev_dataset, batch_size = BATCH_SIZE, sampler = dev_sampler, collate_fn = collate_fn)"
   ]
  },
  {
   "cell_type": "code",
   "execution_count": 10,
   "id": "0a36a8b3",
   "metadata": {},
   "outputs": [],
   "source": [
    "class BertClassifier(nn.Module):\n",
    "    def __init__(self, bert:BertModel, num_classes: int):\n",
    "        super().__init__()\n",
    "        self.bert = bert\n",
    "        self.classifier = nn.Linear(bert.config.hidden_size, num_classes)\n",
    "        \n",
    "    def forward(self, input_ids, attention_mask = None, token_type_ids = None, position_ids = None, head_mask = None, labels = None):\n",
    "        outputs = self.bert(input_ids, attention_mask = attention_mask,\n",
    "                           token_type_ids = token_type_ids, position_ids = position_ids,\n",
    "                           head_mask = head_mask)\n",
    "        cls_output= outputs[1] # batch, hidden\n",
    "        cls_output = self.classifier(cls_output) # batch,6\n",
    "        cls_output = torch.sigmoid(cls_output)\n",
    "        criterion = nn.BCELoss()\n",
    "        loss = 0\n",
    "        if labels is not None:\n",
    "            loss = criterion(cls_output, labels)\n",
    "        return loss, cls_output"
   ]
  },
  {
   "cell_type": "code",
   "execution_count": 11,
   "id": "73fdb924",
   "metadata": {},
   "outputs": [
    {
     "name": "stderr",
     "output_type": "stream",
     "text": [
      "Some weights of the model checkpoint at bert-base-cased were not used when initializing BertModel: ['cls.predictions.bias', 'cls.predictions.transform.dense.bias', 'cls.predictions.decoder.weight', 'cls.seq_relationship.bias', 'cls.predictions.transform.dense.weight', 'cls.predictions.transform.LayerNorm.bias', 'cls.predictions.transform.LayerNorm.weight', 'cls.seq_relationship.weight']\n",
      "- This IS expected if you are initializing BertModel from the checkpoint of a model trained on another task or with another architecture (e.g. initializing a BertForSequenceClassification model from a BertForPreTraining model).\n",
      "- This IS NOT expected if you are initializing BertModel from the checkpoint of a model that you expect to be exactly identical (initializing a BertForSequenceClassification model from a BertForSequenceClassification model).\n"
     ]
    }
   ],
   "source": [
    "model = BertClassifier(BertModel.from_pretrained(bert_model_name), 6).to(device)"
   ]
  },
  {
   "cell_type": "code",
   "execution_count": 12,
   "id": "7e20e639",
   "metadata": {},
   "outputs": [],
   "source": [
    "def train(model, iterator, optimizer, scheduler):\n",
    "    model.train()\n",
    "    total_loss = 0\n",
    "    for x,y in tqdm(iterator):\n",
    "        optimizer.zero_grad()\n",
    "        mask = (x!=0).float()\n",
    "        loss, outputs = model(x, attention_mask=mask, labels=y)\n",
    "        total_loss +=loss.item()\n",
    "        loss.backward()\n",
    "        optimizer.step()\n",
    "        scheduler.step()\n",
    "    print(f\"train loss {total_loss/ len(iterator)}\")\n",
    "    \n",
    "def evaluate(model, iterator):\n",
    "    model.eval()\n",
    "    pred = []\n",
    "    true = []\n",
    "    with torch.no_grad():\n",
    "        total_loss = 0\n",
    "        for x, y in tqdm(iterator):\n",
    "            mask = (x !=0).float()\n",
    "            loss, outputs = model(x, attention_mask=mask, labels=y)\n",
    "            total_loss +=loss\n",
    "            true += y.cpu().numpy().tolist()\n",
    "            pred += outputs.cpu().numpy().tolist()\n",
    "    true = np.array(true)\n",
    "    pred = np.array(pred)\n",
    "    for i, name in enumerate([\"toxic\", \"severe_toxic\", \"obscene\", \"threat\", \"insult\", \"identity_hate\"]):\n",
    "        print(f\"{name} roc_auc {roc_auc_score(true[:,i], pred[:,i])}\")\n",
    "    print(f\"eval loss {total_loss/ len(iterator)}\")"
   ]
  },
  {
   "cell_type": "code",
   "execution_count": 13,
   "id": "f55a2d4a",
   "metadata": {},
   "outputs": [
    {
     "name": "stderr",
     "output_type": "stream",
     "text": [
      "C:\\Users\\zelo9\\miniconda3\\lib\\site-packages\\transformers\\optimization.py:306: FutureWarning: This implementation of AdamW is deprecated and will be removed in a future version. Use the PyTorch implementation torch.optim.AdamW instead, or set `no_deprecation_warning=True` to disable this warning\n",
      "  warnings.warn(\n"
     ]
    }
   ],
   "source": [
    "no_decay = [\"bias\", \"LayerNorm.weight\"]\n",
    "optimizer_grouped_parameters = [\n",
    "    {\"params\":[p for n, p in model.named_parameters() if not any(nd in n for nd in no_decay)], \"weight_decay\" : 0.01},\n",
    "    {\"params\":[p for n, p in model.named_parameters() if any(nd in n for nd in no_decay)], \"weight_decay\":0.0}\n",
    "]\n",
    "EPOCH_NUM = 2\n",
    "warmup_steps = 10 **3\n",
    "total_steps = len(train_iterator) * EPOCH_NUM - warmup_steps\n",
    "optimizer = AdamW(optimizer_grouped_parameters, lr = 2e-5, eps = 1e-8)\n",
    "scheduler = get_linear_schedule_with_warmup(optimizer, warmup_steps, total_steps)"
   ]
  },
  {
   "cell_type": "code",
   "execution_count": 14,
   "id": "aa90815a",
   "metadata": {},
   "outputs": [
    {
     "name": "stdout",
     "output_type": "stream",
     "text": [
      "------------------------------ epoch 0 ==============================\n"
     ]
    },
    {
     "name": "stderr",
     "output_type": "stream",
     "text": [
      "  0%|                                                                              | 1/4738 [00:33<44:07:38, 33.54s/it]\n"
     ]
    },
    {
     "ename": "KeyboardInterrupt",
     "evalue": "",
     "output_type": "error",
     "traceback": [
      "\u001b[1;31m---------------------------------------------------------------------------\u001b[0m",
      "\u001b[1;31mKeyboardInterrupt\u001b[0m                         Traceback (most recent call last)",
      "Cell \u001b[1;32mIn[14], line 3\u001b[0m\n\u001b[0;32m      1\u001b[0m \u001b[38;5;28;01mfor\u001b[39;00m i \u001b[38;5;129;01min\u001b[39;00m \u001b[38;5;28mrange\u001b[39m(EPOCH_NUM):\n\u001b[0;32m      2\u001b[0m     \u001b[38;5;28mprint\u001b[39m(\u001b[38;5;124m\"\u001b[39m\u001b[38;5;124m-\u001b[39m\u001b[38;5;124m\"\u001b[39m\u001b[38;5;241m*\u001b[39m\u001b[38;5;241m30\u001b[39m, \u001b[38;5;124mf\u001b[39m\u001b[38;5;124m\"\u001b[39m\u001b[38;5;124mepoch \u001b[39m\u001b[38;5;132;01m{\u001b[39;00mi\u001b[38;5;132;01m}\u001b[39;00m\u001b[38;5;124m\"\u001b[39m, \u001b[38;5;124m\"\u001b[39m\u001b[38;5;124m=\u001b[39m\u001b[38;5;124m\"\u001b[39m\u001b[38;5;241m*\u001b[39m\u001b[38;5;241m30\u001b[39m)\n\u001b[1;32m----> 3\u001b[0m     \u001b[43mtrain\u001b[49m\u001b[43m(\u001b[49m\u001b[43mmodel\u001b[49m\u001b[43m,\u001b[49m\u001b[43m \u001b[49m\u001b[43mtrain_iterator\u001b[49m\u001b[43m,\u001b[49m\u001b[43m \u001b[49m\u001b[43moptimizer\u001b[49m\u001b[43m,\u001b[49m\u001b[43m \u001b[49m\u001b[43mscheduler\u001b[49m\u001b[43m)\u001b[49m\n\u001b[0;32m      4\u001b[0m     evaluate(model, dev_iterator)\n",
      "Cell \u001b[1;32mIn[12], line 9\u001b[0m, in \u001b[0;36mtrain\u001b[1;34m(model, iterator, optimizer, scheduler)\u001b[0m\n\u001b[0;32m      7\u001b[0m loss, outputs \u001b[38;5;241m=\u001b[39m model(x, attention_mask\u001b[38;5;241m=\u001b[39mmask, labels\u001b[38;5;241m=\u001b[39my)\n\u001b[0;32m      8\u001b[0m total_loss \u001b[38;5;241m+\u001b[39m\u001b[38;5;241m=\u001b[39mloss\u001b[38;5;241m.\u001b[39mitem()\n\u001b[1;32m----> 9\u001b[0m \u001b[43mloss\u001b[49m\u001b[38;5;241;43m.\u001b[39;49m\u001b[43mbackward\u001b[49m\u001b[43m(\u001b[49m\u001b[43m)\u001b[49m\n\u001b[0;32m     10\u001b[0m optimizer\u001b[38;5;241m.\u001b[39mstep()\n\u001b[0;32m     11\u001b[0m scheduler\u001b[38;5;241m.\u001b[39mstep()\n",
      "File \u001b[1;32m~\\miniconda3\\lib\\site-packages\\torch\\_tensor.py:488\u001b[0m, in \u001b[0;36mTensor.backward\u001b[1;34m(self, gradient, retain_graph, create_graph, inputs)\u001b[0m\n\u001b[0;32m    478\u001b[0m \u001b[38;5;28;01mif\u001b[39;00m has_torch_function_unary(\u001b[38;5;28mself\u001b[39m):\n\u001b[0;32m    479\u001b[0m     \u001b[38;5;28;01mreturn\u001b[39;00m handle_torch_function(\n\u001b[0;32m    480\u001b[0m         Tensor\u001b[38;5;241m.\u001b[39mbackward,\n\u001b[0;32m    481\u001b[0m         (\u001b[38;5;28mself\u001b[39m,),\n\u001b[1;32m   (...)\u001b[0m\n\u001b[0;32m    486\u001b[0m         inputs\u001b[38;5;241m=\u001b[39minputs,\n\u001b[0;32m    487\u001b[0m     )\n\u001b[1;32m--> 488\u001b[0m \u001b[43mtorch\u001b[49m\u001b[38;5;241;43m.\u001b[39;49m\u001b[43mautograd\u001b[49m\u001b[38;5;241;43m.\u001b[39;49m\u001b[43mbackward\u001b[49m\u001b[43m(\u001b[49m\n\u001b[0;32m    489\u001b[0m \u001b[43m    \u001b[49m\u001b[38;5;28;43mself\u001b[39;49m\u001b[43m,\u001b[49m\u001b[43m \u001b[49m\u001b[43mgradient\u001b[49m\u001b[43m,\u001b[49m\u001b[43m \u001b[49m\u001b[43mretain_graph\u001b[49m\u001b[43m,\u001b[49m\u001b[43m \u001b[49m\u001b[43mcreate_graph\u001b[49m\u001b[43m,\u001b[49m\u001b[43m \u001b[49m\u001b[43minputs\u001b[49m\u001b[38;5;241;43m=\u001b[39;49m\u001b[43minputs\u001b[49m\n\u001b[0;32m    490\u001b[0m \u001b[43m\u001b[49m\u001b[43m)\u001b[49m\n",
      "File \u001b[1;32m~\\miniconda3\\lib\\site-packages\\torch\\autograd\\__init__.py:197\u001b[0m, in \u001b[0;36mbackward\u001b[1;34m(tensors, grad_tensors, retain_graph, create_graph, grad_variables, inputs)\u001b[0m\n\u001b[0;32m    192\u001b[0m     retain_graph \u001b[38;5;241m=\u001b[39m create_graph\n\u001b[0;32m    194\u001b[0m \u001b[38;5;66;03m# The reason we repeat same the comment below is that\u001b[39;00m\n\u001b[0;32m    195\u001b[0m \u001b[38;5;66;03m# some Python versions print out the first line of a multi-line function\u001b[39;00m\n\u001b[0;32m    196\u001b[0m \u001b[38;5;66;03m# calls in the traceback and some print out the last line\u001b[39;00m\n\u001b[1;32m--> 197\u001b[0m \u001b[43mVariable\u001b[49m\u001b[38;5;241;43m.\u001b[39;49m\u001b[43m_execution_engine\u001b[49m\u001b[38;5;241;43m.\u001b[39;49m\u001b[43mrun_backward\u001b[49m\u001b[43m(\u001b[49m\u001b[43m  \u001b[49m\u001b[38;5;66;43;03m# Calls into the C++ engine to run the backward pass\u001b[39;49;00m\n\u001b[0;32m    198\u001b[0m \u001b[43m    \u001b[49m\u001b[43mtensors\u001b[49m\u001b[43m,\u001b[49m\u001b[43m \u001b[49m\u001b[43mgrad_tensors_\u001b[49m\u001b[43m,\u001b[49m\u001b[43m \u001b[49m\u001b[43mretain_graph\u001b[49m\u001b[43m,\u001b[49m\u001b[43m \u001b[49m\u001b[43mcreate_graph\u001b[49m\u001b[43m,\u001b[49m\u001b[43m \u001b[49m\u001b[43minputs\u001b[49m\u001b[43m,\u001b[49m\n\u001b[0;32m    199\u001b[0m \u001b[43m    \u001b[49m\u001b[43mallow_unreachable\u001b[49m\u001b[38;5;241;43m=\u001b[39;49m\u001b[38;5;28;43;01mTrue\u001b[39;49;00m\u001b[43m,\u001b[49m\u001b[43m \u001b[49m\u001b[43maccumulate_grad\u001b[49m\u001b[38;5;241;43m=\u001b[39;49m\u001b[38;5;28;43;01mTrue\u001b[39;49;00m\u001b[43m)\u001b[49m\n",
      "\u001b[1;31mKeyboardInterrupt\u001b[0m: "
     ]
    }
   ],
   "source": [
    "for i in range(EPOCH_NUM):\n",
    "    print(\"-\"*30, f\"epoch {i}\", \"=\"*30)\n",
    "    train(model, train_iterator, optimizer, scheduler)\n",
    "    evaluate(model, dev_iterator)"
   ]
  },
  {
   "cell_type": "code",
   "execution_count": null,
   "id": "339081d7",
   "metadata": {},
   "outputs": [],
   "source": []
  },
  {
   "cell_type": "code",
   "execution_count": null,
   "id": "2fe42a59",
   "metadata": {},
   "outputs": [],
   "source": []
  }
 ],
 "metadata": {
  "kernelspec": {
   "display_name": "Python 3 (ipykernel)",
   "language": "python",
   "name": "python3"
  },
  "language_info": {
   "codemirror_mode": {
    "name": "ipython",
    "version": 3
   },
   "file_extension": ".py",
   "mimetype": "text/x-python",
   "name": "python",
   "nbconvert_exporter": "python",
   "pygments_lexer": "ipython3",
   "version": "3.9.12"
  }
 },
 "nbformat": 4,
 "nbformat_minor": 5
}
